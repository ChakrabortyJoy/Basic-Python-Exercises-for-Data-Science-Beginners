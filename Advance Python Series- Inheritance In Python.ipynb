{
 "cells": [
  {
   "cell_type": "markdown",
   "source": [
    "# Python OOPs- Inheritance"
   ],
   "metadata": {}
  },
  {
   "cell_type": "code",
   "execution_count": 9,
   "source": [
    "### All the class variables are public\r\n",
    "### Car Blueprint\r\n",
    "class Car():\r\n",
    "    def __init__(self,windows,doors,enginetype):\r\n",
    "        self.windows=windows\r\n",
    "        self.doors=doors\r\n",
    "        self.enginetype=enginetype\r\n",
    "    def drive(self):\r\n",
    "        print(\"The Person Drives the car.\")"
   ],
   "outputs": [],
   "metadata": {}
  },
  {
   "cell_type": "code",
   "execution_count": 10,
   "source": [
    "car=Car(4,5,\"disel\")"
   ],
   "outputs": [],
   "metadata": {}
  },
  {
   "cell_type": "code",
   "execution_count": 11,
   "source": [
    "car.drive()"
   ],
   "outputs": [
    {
     "output_type": "stream",
     "name": "stdout",
     "text": [
      "The Person Drives the car.\n"
     ]
    }
   ],
   "metadata": {}
  },
  {
   "cell_type": "code",
   "execution_count": 14,
   "source": [
    "class audi(Car):\r\n",
    "    def __init__(self,windows,doors,enginetype,enableai):\r\n",
    "        super().__init__(windows,doors,enginetype)\r\n",
    "        self.enableai=enableai\r\n",
    "    def selfdriving(self):\r\n",
    "        print(\"Audi supports Self driving\")"
   ],
   "outputs": [],
   "metadata": {}
  },
  {
   "cell_type": "code",
   "execution_count": 15,
   "source": [
    "audiQ7=audi(5,5,\"disel\",True)"
   ],
   "outputs": [],
   "metadata": {}
  },
  {
   "cell_type": "code",
   "execution_count": 16,
   "source": [
    "audiQ7.selfdriving()"
   ],
   "outputs": [
    {
     "output_type": "stream",
     "name": "stdout",
     "text": [
      "Audi supports Self driving\n"
     ]
    }
   ],
   "metadata": {}
  },
  {
   "cell_type": "code",
   "execution_count": null,
   "source": [],
   "outputs": [],
   "metadata": {}
  }
 ],
 "metadata": {
  "orig_nbformat": 4,
  "language_info": {
   "name": "python",
   "version": "3.9.6",
   "mimetype": "text/x-python",
   "codemirror_mode": {
    "name": "ipython",
    "version": 3
   },
   "pygments_lexer": "ipython3",
   "nbconvert_exporter": "python",
   "file_extension": ".py"
  },
  "kernelspec": {
   "name": "python3",
   "display_name": "Python 3.9.6 64-bit"
  },
  "interpreter": {
   "hash": "247ab06e135bb35fa78c5eff31b2a9a0050dcb5fb773c2631d2a29ac689eeccb"
  }
 },
 "nbformat": 4,
 "nbformat_minor": 2
}