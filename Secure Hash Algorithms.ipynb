{
 "cells": [
  {
   "cell_type": "markdown",
   "source": [
    "# SHA, ( Secure Hash Algorithms )- Base Of BlockChain\r\n",
    "\r\n",
    "1. SHA256 : This hash function belong to hash class SHA-2, the internal block size of it is 32 bits.\r\n",
    "2. SHA384 : This hash function belong to hash class SHA-2, the internal block size of it is 32 bits. This is one of the truncated version.\r\n",
    "3. SHA224 : This hash function belong to hash class SHA-2, the internal block size of it is 32 bits. This is one of the truncated version.\r\n",
    "4. SHA512 : This hash function belong to hash class SHA-2, the internal block size of it is 64 bits.\r\n",
    "5. SHA1 : The 160 bit hash function that resembles MD5 hash in working and was discontinued to be used seeing its security vulnerabilities."
   ],
   "metadata": {}
  },
  {
   "cell_type": "code",
   "execution_count": 1,
   "source": [
    "import hashlib"
   ],
   "outputs": [],
   "metadata": {}
  },
  {
   "cell_type": "markdown",
   "source": [
    "# SHA256"
   ],
   "metadata": {}
  },
  {
   "cell_type": "code",
   "execution_count": 8,
   "source": [
    "str1=\"Joy Chakraborty\"\r\n",
    "### Process of Hashing\r\n",
    "### First step is to encode\r\n",
    "### Then Apply hashing Algorithms\r\n",
    "hashedval=hashlib.sha256(str1.encode())\r\n",
    "print(hashedval)"
   ],
   "outputs": [
    {
     "output_type": "stream",
     "name": "stdout",
     "text": [
      "<sha256 _hashlib.HASH object @ 0x0000019C2C4FC030>\n"
     ]
    }
   ],
   "metadata": {}
  },
  {
   "cell_type": "code",
   "execution_count": 9,
   "source": [
    "###convert this value to hexadecimal\r\n",
    "hashedval.hexdigest()"
   ],
   "outputs": [
    {
     "output_type": "execute_result",
     "data": {
      "text/plain": [
       "'e909b812a0f0b4882fe4f9aa3a5f031f494243ea571916b3ed081ea4fccad2d2'"
      ]
     },
     "metadata": {},
     "execution_count": 9
    }
   ],
   "metadata": {}
  },
  {
   "cell_type": "markdown",
   "source": [
    "# SHA384"
   ],
   "metadata": {}
  },
  {
   "cell_type": "code",
   "execution_count": 11,
   "source": [
    "hashedval=hashlib.sha384(str1.encode())\r\n",
    "len(hashedval.hexdigest())\r\n",
    "hashedval.hexdigest()"
   ],
   "outputs": [
    {
     "output_type": "execute_result",
     "data": {
      "text/plain": [
       "'b8bc138dc3935bc7026364a5f0f1b337d9413c39fd8e0876670d221893a1e697eb7cc0f0401e4a778c57b458c3a8e2fb'"
      ]
     },
     "metadata": {},
     "execution_count": 11
    }
   ],
   "metadata": {}
  },
  {
   "cell_type": "markdown",
   "source": [
    "# SHA224"
   ],
   "metadata": {}
  },
  {
   "cell_type": "code",
   "execution_count": 12,
   "source": [
    "hashedval=hashlib.sha224(str1.encode())\r\n",
    "hashedval.hexdigest()"
   ],
   "outputs": [
    {
     "output_type": "execute_result",
     "data": {
      "text/plain": [
       "'7c360594b3dc602f6114d2a5c4781bbd47295349594fd3ca72d197f3'"
      ]
     },
     "metadata": {},
     "execution_count": 12
    }
   ],
   "metadata": {}
  },
  {
   "cell_type": "markdown",
   "source": [
    "# SHA512"
   ],
   "metadata": {}
  },
  {
   "cell_type": "code",
   "execution_count": 13,
   "source": [
    "hashedval=hashlib.sha512(str1.encode())\r\n",
    "hashedval.hexdigest()"
   ],
   "outputs": [
    {
     "output_type": "execute_result",
     "data": {
      "text/plain": [
       "'9ab44c10fac3ea32751b7f9ac677078d43d72765348ad89ecccc46d8d0d12c844c753c1f794ff46e6cc0f7431fdfcdb487e9a073def19f2cd6ed72d3e70b3466'"
      ]
     },
     "metadata": {},
     "execution_count": 13
    }
   ],
   "metadata": {}
  },
  {
   "cell_type": "markdown",
   "source": [
    "# SHA1"
   ],
   "metadata": {}
  },
  {
   "cell_type": "code",
   "execution_count": 14,
   "source": [
    "hashedval=hashlib.sha1(str1.encode())\r\n",
    "hashedval.hexdigest()"
   ],
   "outputs": [
    {
     "output_type": "execute_result",
     "data": {
      "text/plain": [
       "'4e2548e83939a319cd6f38b31065334fca015960'"
      ]
     },
     "metadata": {},
     "execution_count": 14
    }
   ],
   "metadata": {}
  },
  {
   "cell_type": "code",
   "execution_count": null,
   "source": [],
   "outputs": [],
   "metadata": {}
  }
 ],
 "metadata": {
  "orig_nbformat": 4,
  "language_info": {
   "name": "python",
   "version": "3.9.6",
   "mimetype": "text/x-python",
   "codemirror_mode": {
    "name": "ipython",
    "version": 3
   },
   "pygments_lexer": "ipython3",
   "nbconvert_exporter": "python",
   "file_extension": ".py"
  },
  "kernelspec": {
   "name": "python3",
   "display_name": "Python 3.9.6 64-bit"
  },
  "interpreter": {
   "hash": "247ab06e135bb35fa78c5eff31b2a9a0050dcb5fb773c2631d2a29ac689eeccb"
  }
 },
 "nbformat": 4,
 "nbformat_minor": 2
}