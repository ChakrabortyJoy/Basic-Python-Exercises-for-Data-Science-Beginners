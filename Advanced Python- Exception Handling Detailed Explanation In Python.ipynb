{
    "cells": [
        {
            "cell_type": "code",
            "execution_count": 1,
            "source": [
                "try:\r\n",
                "    a=1\r\n",
                "    b='s'\r\n",
                "    c=a+b\r\n",
                "except NameError as ex1:\r\n",
                "    print(\"The user have not defined the variable\")\r\n",
                "except Exception as ex:\r\n",
                "    print(ex)"
            ],
            "outputs": [
                {
                    "output_type": "stream",
                    "name": "stdout",
                    "text": [
                        "unsupported operand type(s) for +: 'int' and 'str'\n"
                    ]
                }
            ],
            "metadata": {}
        },
        {
            "cell_type": "code",
            "execution_count": 8,
            "source": [
                "### Try else\r\n",
                "try:\r\n",
                "    a=int(input(\"Enter the 1st number: \"))\r\n",
                "    b=int(input(\"Enter the 2nd number: \"))\r\n",
                "    c=a/b\r\n",
                "    d=a*b\r\n",
                "    e=a+b\r\n",
                "\r\n",
                "except NameError:\r\n",
                "    print(\"The user have not defined the variable\")\r\n",
                "except ZeroDivisionError:\r\n",
                "    print(\"Please provide number greater than 0\")\r\n",
                "except TypeError:\r\n",
                "    print(\"Try to make the datatype similar\")\r\n",
                "except Exception as ex:\r\n",
                "    print(ex)\r\n",
                "else:\r\n",
                "    print(c)\r\n",
                "    print(d)\r\n",
                "    print(e)"
            ],
            "outputs": [
                {
                    "output_type": "stream",
                    "name": "stdout",
                    "text": [
                        "Please provide number greater than 0\n"
                    ]
                }
            ],
            "metadata": {}
        },
        {
            "cell_type": "code",
            "execution_count": 9,
            "source": [
                "try:\r\n",
                "    ##code block where exception can occur\r\n",
                "    a=int(input(\"Enter the number 1 \"))\r\n",
                "    b=int(input(\"Enter the number 2 \"))\r\n",
                "    c=a/b\r\n",
                "    \r\n",
                "except NameError:\r\n",
                "    print(\"The user have not defined the variable\")\r\n",
                "except ZeroDivisionError:\r\n",
                "    print(\"Please provide number greater than 0\")\r\n",
                "except TypeError:\r\n",
                "    print(\"Try to make the datatype similar\")\r\n",
                "except Exception as ex:\r\n",
                "    print(ex)\r\n",
                "else:\r\n",
                "    print(c)\r\n",
                "finally:\r\n",
                "    print(\"The Excution is done\")"
            ],
            "outputs": [
                {
                    "output_type": "stream",
                    "name": "stdout",
                    "text": [
                        "Please provide number greater than 0\n",
                        "The Excution is done\n"
                    ]
                }
            ],
            "metadata": {}
        },
        {
            "cell_type": "markdown",
            "source": [
                "# Custom Exception"
            ],
            "metadata": {}
        },
        {
            "cell_type": "code",
            "execution_count": 10,
            "source": [
                "class Error(Exception):\r\n",
                "    pass\r\n",
                "class dobException(Error):\r\n",
                "    pass\r\n",
                "\r\n"
            ],
            "outputs": [],
            "metadata": {}
        },
        {
            "cell_type": "code",
            "execution_count": 15,
            "source": [
                "year=int(input(\"Enter the year of birth: \"))\r\n",
                "age=2021-year\r\n",
                "try:\r\n",
                "    if age<=30 & age>20:\r\n",
                "        print(\"The age is valid.You can apply for the exams.\")\r\n",
                "    else:\r\n",
                "        raise dobException\r\n",
                "except dobException:\r\n",
                "    print(\"The Year range is not valid. You can not apply for the exam.\")"
            ],
            "outputs": [
                {
                    "output_type": "stream",
                    "name": "stdout",
                    "text": [
                        "The Year range is not valid. You can not apply for the exam.\n"
                    ]
                }
            ],
            "metadata": {}
        },
        {
            "cell_type": "code",
            "execution_count": null,
            "source": [],
            "outputs": [],
            "metadata": {}
        }
    ],
    "metadata": {
        "orig_nbformat": 4,
        "language_info": {
            "name": "python",
            "version": "3.9.6",
            "mimetype": "text/x-python",
            "codemirror_mode": {
                "name": "ipython",
                "version": 3
            },
            "pygments_lexer": "ipython3",
            "nbconvert_exporter": "python",
            "file_extension": ".py"
        },
        "kernelspec": {
            "name": "python3",
            "display_name": "Python 3.9.6 64-bit"
        },
        "interpreter": {
            "hash": "247ab06e135bb35fa78c5eff31b2a9a0050dcb5fb773c2631d2a29ac689eeccb"
        }
    },
    "nbformat": 4,
    "nbformat_minor": 2
}