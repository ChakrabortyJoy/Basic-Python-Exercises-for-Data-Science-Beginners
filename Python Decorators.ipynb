{
 "cells": [
  {
   "cell_type": "code",
   "execution_count": 1,
   "source": [
    "## function copy\r\n",
    "## closures\r\n",
    "## decorators"
   ],
   "outputs": [],
   "metadata": {}
  },
  {
   "cell_type": "code",
   "execution_count": 2,
   "source": [
    "def welcome():\r\n",
    "    return \"Welcome Joy in VS studio\""
   ],
   "outputs": [],
   "metadata": {}
  },
  {
   "cell_type": "code",
   "execution_count": 5,
   "source": [
    "well=welcome()\r\n",
    "del welcome"
   ],
   "outputs": [],
   "metadata": {}
  },
  {
   "cell_type": "code",
   "execution_count": 6,
   "source": [
    "well"
   ],
   "outputs": [
    {
     "output_type": "execute_result",
     "data": {
      "text/plain": [
       "'Welcome Joy in VS studio'"
      ]
     },
     "metadata": {},
     "execution_count": 6
    }
   ],
   "metadata": {}
  },
  {
   "cell_type": "code",
   "execution_count": 7,
   "source": [
    "welcome"
   ],
   "outputs": [
    {
     "output_type": "error",
     "ename": "NameError",
     "evalue": "name 'welcome' is not defined",
     "traceback": [
      "\u001b[1;31m---------------------------------------------------------------------------\u001b[0m",
      "\u001b[1;31mNameError\u001b[0m                                 Traceback (most recent call last)",
      "\u001b[1;32m<ipython-input-7-85fcd345dd2c>\u001b[0m in \u001b[0;36m<module>\u001b[1;34m\u001b[0m\n\u001b[1;32m----> 1\u001b[1;33m \u001b[0mwelcome\u001b[0m\u001b[1;33m\u001b[0m\u001b[1;33m\u001b[0m\u001b[0m\n\u001b[0m",
      "\u001b[1;31mNameError\u001b[0m: name 'welcome' is not defined"
     ]
    }
   ],
   "metadata": {}
  },
  {
   "cell_type": "code",
   "execution_count": 3,
   "source": [
    "### Closures\r\n",
    "def main_welcome(msg):\r\n",
    "\r\n",
    "    def sub_welcome_class():\r\n",
    "        print(\"Welcome to the CSE Batch 3 \")\r\n",
    "        print(msg)\r\n",
    "        print(\"Please, মাস্টার দের চাটবেন নাহ\")\r\n",
    "    return sub_welcome_class()"
   ],
   "outputs": [],
   "metadata": {}
  },
  {
   "cell_type": "code",
   "execution_count": 5,
   "source": [
    "main_welcome(\"CR\")"
   ],
   "outputs": [
    {
     "output_type": "stream",
     "name": "stdout",
     "text": [
      "Welcome to the CSE Batch 3 \n",
      "CR\n",
      "Please, মাস্টার দের চাটবেন নাহ\n"
     ]
    }
   ],
   "metadata": {}
  },
  {
   "cell_type": "code",
   "execution_count": 7,
   "source": [
    "### Closures & initial Decorators\r\n",
    "def main_welcome(func):\r\n",
    "   \r\n",
    "    def sub_welcome_class():\r\n",
    "        print(\"Welcome To the Vs Code\")\r\n",
    "        print(func([1,2,3,4,5,6]))\r\n",
    "        print(\"Please , don't Rush\")\r\n",
    "    return sub_welcome_class()"
   ],
   "outputs": [],
   "metadata": {}
  },
  {
   "cell_type": "code",
   "execution_count": 8,
   "source": [
    "main_welcome(len)"
   ],
   "outputs": [
    {
     "output_type": "stream",
     "name": "stdout",
     "text": [
      "Welcome To the Vs Code\n",
      "6\n",
      "Please , don't Rush\n"
     ]
    }
   ],
   "metadata": {}
  },
  {
   "cell_type": "code",
   "execution_count": 9,
   "source": [
    "### Decorators\r\n",
    "def main_welcome(func):\r\n",
    "   \r\n",
    "    def sub_welcome_class():\r\n",
    "        print(\"Welcome To Krish Naik Youtube Channel\")\r\n",
    "        func()\r\n",
    "        print(\"Please subscribe Krish channel\")\r\n",
    "    return sub_welcome_class()"
   ],
   "outputs": [],
   "metadata": {}
  },
  {
   "cell_type": "code",
   "execution_count": 12,
   "source": [
    "@main_welcome\r\n",
    "def channel_name():\r\n",
    "    print(\"This is Krish youtube channel\")"
   ],
   "outputs": [
    {
     "output_type": "stream",
     "name": "stdout",
     "text": [
      "Welcome To Krish Naik Youtube Channel\n",
      "This is Krish youtube channel\n",
      "Please subscribe Krish channel\n"
     ]
    }
   ],
   "metadata": {}
  },
  {
   "cell_type": "code",
   "execution_count": null,
   "source": [],
   "outputs": [],
   "metadata": {}
  }
 ],
 "metadata": {
  "orig_nbformat": 4,
  "language_info": {
   "name": "python",
   "version": "3.9.6",
   "mimetype": "text/x-python",
   "codemirror_mode": {
    "name": "ipython",
    "version": 3
   },
   "pygments_lexer": "ipython3",
   "nbconvert_exporter": "python",
   "file_extension": ".py"
  },
  "kernelspec": {
   "name": "python3",
   "display_name": "Python 3.9.6 64-bit"
  },
  "interpreter": {
   "hash": "247ab06e135bb35fa78c5eff31b2a9a0050dcb5fb773c2631d2a29ac689eeccb"
  }
 },
 "nbformat": 4,
 "nbformat_minor": 2
}